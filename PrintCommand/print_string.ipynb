{
 "cells": [
  {
   "cell_type": "markdown",
   "metadata": {},
   "source": [
    "# Print String"
   ]
  },
  {
   "cell_type": "code",
   "execution_count": null,
   "metadata": {},
   "outputs": [],
   "source": [
    "# Quote\n",
    "print(\"hello\")\n",
    "print(\"I Love Python\")\n",
    "print(\"100\")"
   ]
  },
  {
   "cell_type": "code",
   "execution_count": null,
   "metadata": {},
   "outputs": [],
   "source": [
    "# Double Quote\n",
    "print(\"hello\")\n",
    "print(\"I Love Python\")\n",
    "print(\"100\")"
   ]
  },
  {
   "cell_type": "code",
   "execution_count": null,
   "metadata": {},
   "outputs": [],
   "source": [
    "# Multiple Line\n",
    "print(\n",
    "    \"\"\"\n",
    "Hello\n",
    "Hello Python\n",
    "I Love Python\"\"\"\n",
    ")"
   ]
  },
  {
   "cell_type": "code",
   "execution_count": null,
   "metadata": {},
   "outputs": [],
   "source": [
    "# String with Quote\n",
    "print(\"it's me\")\n",
    "print(\"it's me\")"
   ]
  },
  {
   "cell_type": "code",
   "execution_count": null,
   "metadata": {},
   "outputs": [],
   "source": [
    "# String with Double Quote\n",
    "print('he said \"Python is my life.\"')\n",
    "print('he said \"Python is my life\".')"
   ]
  },
  {
   "cell_type": "code",
   "execution_count": null,
   "metadata": {},
   "outputs": [],
   "source": [
    "# String with Backslash\n",
    "print(\"/\\\\\")\n",
    "print(\"/\\\\/\\\\/\\\\\")"
   ]
  }
 ],
 "metadata": {
  "language_info": {
   "name": "python"
  }
 },
 "nbformat": 4,
 "nbformat_minor": 2
}
