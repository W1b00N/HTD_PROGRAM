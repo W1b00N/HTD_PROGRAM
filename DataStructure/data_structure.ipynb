{
 "cells": [
  {
   "cell_type": "markdown",
   "metadata": {},
   "source": [
    "**# Data Structures**"
   ]
  },
  {
   "cell_type": "code",
   "execution_count": null,
   "metadata": {},
   "outputs": [],
   "source": [
    "# integer\n",
    "a = 1\n",
    "print(\"type a =\", type(a))"
   ]
  },
  {
   "cell_type": "code",
   "execution_count": null,
   "metadata": {},
   "outputs": [],
   "source": [
    "# floating-point number\n",
    "c = 0.5\n",
    "d = 3 / 4\n",
    "print(\"type c =\", type(c))\n",
    "print(\"type d =\", type(d))"
   ]
  },
  {
   "cell_type": "code",
   "execution_count": null,
   "metadata": {},
   "outputs": [],
   "source": [
    "# Boolean\n",
    "t = True\n",
    "f = False\n",
    "print(\"type t =\", type(t))\n",
    "print(\"type f =\", type(f))"
   ]
  },
  {
   "cell_type": "code",
   "execution_count": null,
   "metadata": {},
   "outputs": [],
   "source": [
    "# complex number\n",
    "z = 3 + 5j\n",
    "z.real  # 3.0\n",
    "z.imag  # 5.0\n",
    "print(\"type z =\", type(z))"
   ]
  },
  {
   "cell_type": "code",
   "execution_count": null,
   "metadata": {},
   "outputs": [],
   "source": [
    "# create string\n",
    "char1 = \"Hello World\"\n",
    "char2 = \"0123456789\"\n",
    "print(\"type char1 =\", type(char1))\n",
    "print(\"type char2 =\", type(char2))"
   ]
  },
  {
   "cell_type": "code",
   "execution_count": null,
   "metadata": {},
   "outputs": [],
   "source": [
    "# read string\n",
    "char3 = \"HelloCB3Python\"\n",
    "char3[3:7]"
   ]
  },
  {
   "cell_type": "code",
   "execution_count": null,
   "metadata": {},
   "outputs": [],
   "source": [
    "# string + replace\n",
    "char4 = \"abc\"\n",
    "char4.replace(\"abc\", \"Hello\")"
   ]
  },
  {
   "cell_type": "code",
   "execution_count": null,
   "metadata": {},
   "outputs": [],
   "source": [
    "# string + len\n",
    "char5 = \"helloPython\"\n",
    "len(char5)"
   ]
  },
  {
   "cell_type": "code",
   "execution_count": null,
   "metadata": {},
   "outputs": [],
   "source": [
    "# string + in\n",
    "char6 = \"Python\"\n",
    "\"y\" in char6"
   ]
  },
  {
   "cell_type": "code",
   "execution_count": null,
   "metadata": {},
   "outputs": [],
   "source": [
    "# string + split\n",
    "char7 = \"one-two-three\"\n",
    "char7.split(\"-\")"
   ]
  },
  {
   "cell_type": "code",
   "execution_count": null,
   "metadata": {},
   "outputs": [],
   "source": [
    "# string + concatenation\n",
    "char9 = \"ab\"\n",
    "char10 = \"cd\"\n",
    "char9 + char10"
   ]
  },
  {
   "cell_type": "markdown",
   "metadata": {},
   "source": [
    "**# Composite data structure**"
   ]
  },
  {
   "cell_type": "markdown",
   "metadata": {},
   "source": [
    "# LIST\n",
    "\"CRUD + sort + len + in\""
   ]
  },
  {
   "cell_type": "code",
   "execution_count": null,
   "metadata": {},
   "outputs": [],
   "source": [
    "# create List\n",
    "list1 = [1, 2, 3, 4, 5]\n",
    "list2 = [\"a\", \"b\", \"c\", \"d\"]\n",
    "list3 = [1, 2, 3, \"a\", \"b\", \"e\"]\n",
    "type(list1)\n",
    "type(list2)\n",
    "type(list3)"
   ]
  },
  {
   "cell_type": "code",
   "execution_count": null,
   "metadata": {},
   "outputs": [],
   "source": [
    "# read list\n",
    "list4 = [1, 2, 3, \"a\", \"b\", \"e\"]\n",
    "list4[0]  # แสดงค่าข้อมูลที่ตำแหน่ง 0 จาก list4 มีค่าเท่ากับ 1\n",
    "list4[-1]  # แสดงค่าข้อมูลที่ตำแหน่ง -1 จาก list4 มีค่าเท่ากับ \"e\"\n",
    "list4[-2]  # แสดงค่าข้อมูลที่ตำแหน่ง -2 จาก list4 มีค่าเท่ากับ \"b\"\n",
    "list4[3:]  # แสดงค่าข้อมูลที่ตำแหน่ง 3 เป็นต้นไป จาก list4 มีค่าเท่ากับ [\"a\",\"b\",\"e\"]\n",
    "list4[:5]  # แสดงค่าข้อมูลที่ตำแหน่ง 0 จึงถึงตำแหน่งที 4 จบที่ตำแหน่ง 5 จาก list4 มีค่าเท่ากับ [1,2,3,\"a\",\"b\"]\n",
    "list4[3:5]  # แสดงค่าข้อมูลที่ตำแหน่ง 3 จึงถึงตำแหน่งที 4 จบที่ตำแหน่ง 5 จาก list4 มีค่าเท่ากับ [\"a\",\"b\"]"
   ]
  },
  {
   "cell_type": "code",
   "execution_count": null,
   "metadata": {},
   "outputs": [],
   "source": [
    "# update list : replace\n",
    "list5 = [1, 2, 3, \"a\", \"b\", \"c\"]\n",
    "list5[0] = 0  # แทนค่าข้อมูลใน list จากตำแหน่งที่ 0 กำหนดค่าใหม่เป็น 0\n",
    "print(list5)\n",
    "list5[-1] = \"x\"  # แทนค่าข้อมูลใน list จากที่ตำแหน่งที่ -1 กำหนดค่าใหม่เป็น 'x'\n",
    "print(list5)"
   ]
  },
  {
   "cell_type": "code",
   "execution_count": null,
   "metadata": {},
   "outputs": [],
   "source": [
    "# update list : append\n",
    "list5 = [1, 2, 3, \"a\", \"b\", \"c\"]\n",
    "list5.append(\"d\")  # เพิ่มค่าใน list โดยจะเพิ่มในส่วนท้ายสุดของ list\n",
    "print(list5)\n",
    "list5.append(\"e\")\n",
    "print(list5)"
   ]
  },
  {
   "cell_type": "code",
   "execution_count": null,
   "metadata": {},
   "outputs": [],
   "source": [
    "# update list : extend\n",
    "list6 = [1, 2, 3]\n",
    "list7 = [\"a\", \"เขา\", \"c\"]\n",
    "list6.extend(list6)  # นำ list มาต่อกัน\n",
    "print(list6)"
   ]
  },
  {
   "cell_type": "code",
   "execution_count": null,
   "metadata": {},
   "outputs": [],
   "source": [
    "# update list : extend\n",
    "list8 = [1, 2, 3, \"a\", \"b\", \"c\"]\n",
    "list8.insert(1, \"one\")  # แทรกข้อมูลที่ตำแหน่งใด ระบุไป\n",
    "print(list8)"
   ]
  },
  {
   "cell_type": "code",
   "execution_count": null,
   "metadata": {},
   "outputs": [],
   "source": [
    "# delete list : del\n",
    "list9 = [1, 2, 3, \"a\", \"b\", \"c\"]\n",
    "del list9[3]  # ลบข้อมูลในตำแหน่ง\n",
    "# delete list : remove\n",
    "list9.remove(1)  # ลบข้อมูลจากตำแหน่งที่กำหนด\n",
    "list9.remove(\"b\")  # ลบข้อมูลจากค่าที่กำหนด\n",
    "# delete list : clear\n",
    "list9.clear()  # เอาข้อมูลใน list ออกหมด\n",
    "list9"
   ]
  },
  {
   "cell_type": "code",
   "execution_count": null,
   "metadata": {},
   "outputs": [],
   "source": [
    "# list + sort\n",
    "list10 = [1, 5, 4, 2, 3, 8, 1.5]\n",
    "print(list10)\n",
    "list10.sort()  # เรียงลำดับน้อยไปมาก\n",
    "print(list10)\n",
    "list10.sort(reverse=True)  # เรียงลำดับย้อนกลับ\n",
    "print(list10)\n",
    "sorted_list10 = sorted(list10)\n",
    "print(sorted_list10)\n",
    "sorted_list10 = sorted(list10, reverse=True)\n",
    "print(sorted_list10)"
   ]
  },
  {
   "cell_type": "code",
   "execution_count": null,
   "metadata": {},
   "outputs": [],
   "source": [
    "# list + len\n",
    "list11 = [1, 5, 4, 2, 3, 8, 1.5]\n",
    "len(list11)"
   ]
  },
  {
   "cell_type": "code",
   "execution_count": null,
   "metadata": {},
   "outputs": [],
   "source": [
    "# list + in\n",
    "list12 = [1, 2, 3, \"a\", \"b\", \"c\"]\n",
    "'b' in list12 # หากเจอสิ่งที่หาใน list จะขึ้นว่า True\n",
    "5 in list12 # หากไม่เจอสิ่งที่หาใน list จะขึ้น False"
   ]
  },
  {
   "cell_type": "markdown",
   "metadata": {},
   "source": [
    "# Tuple\n",
    "\"CR + len + in\""
   ]
  },
  {
   "cell_type": "code",
   "execution_count": null,
   "metadata": {},
   "outputs": [],
   "source": [
    "# create a tuple\n",
    "tuple1 = (1, 2, 3, 4, 5)\n",
    "tuple2 = (\"a\", \"b\", \"c\")\n",
    "tuple3 = (1, 2, 3.14, \"a\", \"b\", \"c\")\n",
    "# print(tuple1)\n",
    "print(type(tuple1))  # การเช็คชนิดข้อมูล\n",
    "print(tuple3[-1])  # อ่านข้อมูลจากตำแหน่งที่กำหนด"
   ]
  },
  {
   "cell_type": "code",
   "execution_count": null,
   "metadata": {},
   "outputs": [],
   "source": [
    "#read tuple\n",
    "tuple4 = (1, 2, 3.14, \"a\", \"b\",\"c\")\n",
    "print(tuple4[0])\n",
    "print(tuple4[-1])\n",
    "print(tuple4[-2])"
   ]
  },
  {
   "cell_type": "code",
   "execution_count": null,
   "metadata": {},
   "outputs": [],
   "source": [
    "#read tuple\n",
    "tuple5 = (1,2,3,'a','b','c')\n",
    "tuple5[3:]\n",
    "tuple5[:5]\n",
    "tuple5[3:5]"
   ]
  },
  {
   "cell_type": "code",
   "execution_count": null,
   "metadata": {},
   "outputs": [],
   "source": [
    "#tuple + len\n",
    "tuple6 = (1,2,3,'a','b','c')\n",
    "print(len(tuple6))"
   ]
  },
  {
   "cell_type": "code",
   "execution_count": null,
   "metadata": {},
   "outputs": [],
   "source": [
    "#tuple + in\n",
    "tuple7 = (1,2,3,'a','b','c')\n",
    "print('b' in tuple7)\n",
    "print(4 in tuple7)"
   ]
  },
  {
   "cell_type": "markdown",
   "metadata": {},
   "source": [
    "# Dictionary\n",
    "\"CRUD + len + in\""
   ]
  },
  {
   "cell_type": "code",
   "execution_count": 8,
   "metadata": {},
   "outputs": [
    {
     "name": "stdout",
     "output_type": "stream",
     "text": [
      "<class 'dict'>\n",
      "<class 'dict'>\n"
     ]
    }
   ],
   "source": [
    "# create dictionary\n",
    "dict1 = {\n",
    "    'firstname': 'John',\n",
    "    'lastname': 'Doe',\n",
    "    'age': 36\n",
    "}\n",
    "dict2 = {\n",
    "    'fullname': 'JohnDoe',\n",
    "    'hobby': ['coding', 'study']\n",
    "}\n",
    "print(type(dict1))\n",
    "print(type(dict2))"
   ]
  },
  {
   "cell_type": "code",
   "execution_count": 7,
   "metadata": {},
   "outputs": [
    {
     "name": "stdout",
     "output_type": "stream",
     "text": [
      "John\n",
      "36\n"
     ]
    }
   ],
   "source": [
    "# read dictionary\n",
    "dict3 = {\"firstname\": \"John\", \"lastname\": \"Doe\", \"age\": 36}\n",
    "print(dict3[\"firstname\"])\n",
    "print(dict3[\"age\"])"
   ]
  },
  {
   "cell_type": "code",
   "execution_count": 6,
   "metadata": {},
   "outputs": [
    {
     "name": "stdout",
     "output_type": "stream",
     "text": [
      "John\n",
      "Mario\n"
     ]
    }
   ],
   "source": [
    "# update dictionary\n",
    "dict4 = {\"firstname\": \"John\", \"lastname\": \"Doe\", \"age\": 36}\n",
    "print(dict4[\"firstname\"])\n",
    "dict4[\"firstname\"] = 'Mario'\n",
    "print(dict4[\"firstname\"])"
   ]
  },
  {
   "cell_type": "code",
   "execution_count": 2,
   "metadata": {},
   "outputs": [
    {
     "name": "stdout",
     "output_type": "stream",
     "text": [
      "{'firstname': 'John', 'lastname': 'Doe', 'age': 36, 'blood_groups': 'o'}\n"
     ]
    }
   ],
   "source": [
    "# add dictionary\n",
    "dict5 = {\"firstname\": \"John\", \"lastname\": \"Doe\", \"age\": 36}\n",
    "dict5['blood_groups'] = 'o'\n",
    "print(dict5)"
   ]
  },
  {
   "cell_type": "code",
   "execution_count": 3,
   "metadata": {},
   "outputs": [
    {
     "name": "stdout",
     "output_type": "stream",
     "text": [
      "{'firstname': 'John', 'lastname': 'Doe', 'age': 36, 'blood_groups': 'o', 'height': 180}\n"
     ]
    }
   ],
   "source": [
    "# update dictionary\n",
    "dict6 = {\"firstname\": \"John\", \"lastname\": \"Doe\", \"age\": 36}\n",
    "dict6.update({'blood_groups': 'o', 'height': 180})\n",
    "print(dict6)"
   ]
  },
  {
   "cell_type": "code",
   "execution_count": 4,
   "metadata": {},
   "outputs": [
    {
     "name": "stdout",
     "output_type": "stream",
     "text": [
      "{'firstname': 'John', 'age': 36}\n"
     ]
    }
   ],
   "source": [
    "# delete dictionary\n",
    "dict7 = {\"firstname\": \"John\", \"lastname\": \"Doe\", \"age\": 36}\n",
    "del dict7['lastname']\n",
    "print(dict7)"
   ]
  },
  {
   "cell_type": "code",
   "execution_count": 5,
   "metadata": {},
   "outputs": [
    {
     "name": "stdout",
     "output_type": "stream",
     "text": [
      "{}\n"
     ]
    }
   ],
   "source": [
    "dict8 = {\"firstname\": \"John\", \"lastname\": \"Doe\", \"age\": 36}\n",
    "dict8.clear()\n",
    "print(dict8)"
   ]
  },
  {
   "cell_type": "code",
   "execution_count": 11,
   "metadata": {},
   "outputs": [
    {
     "name": "stdout",
     "output_type": "stream",
     "text": [
      "3\n",
      "3\n",
      "3\n"
     ]
    }
   ],
   "source": [
    "# dictionary + len\n",
    "dict9 = {\"firstname\": \"John\", \"lastname\": \"Doe\", \"age\": 36}\n",
    "print(len(dict9))\n",
    "print(len(dict9.keys()))\n",
    "print(len(dict9.values()))"
   ]
  },
  {
   "cell_type": "code",
   "execution_count": 14,
   "metadata": {},
   "outputs": [
    {
     "name": "stdout",
     "output_type": "stream",
     "text": [
      "True\n",
      "True\n",
      "False\n"
     ]
    }
   ],
   "source": [
    "# dictionary + in\n",
    "dict10 = {\"firstname\": \"John\", \"lastname\": \"Doe\", \"age\": 36}\n",
    "print(\"firstname\" in dict10)\n",
    "print(\"firstname\" in dict10.keys())\n",
    "print('john' in dict10.values())"
   ]
  },
  {
   "cell_type": "markdown",
   "metadata": {},
   "source": [
    "# Set\n",
    "\"CRUD + len + in\"\n",
    "+ union\n",
    "+ intersection\n",
    "+ difference\n",
    "+ Symmetric difference"
   ]
  },
  {
   "cell_type": "code",
   "execution_count": 15,
   "metadata": {},
   "outputs": [
    {
     "name": "stdout",
     "output_type": "stream",
     "text": [
      "<class 'set'>\n",
      "<class 'set'>\n"
     ]
    }
   ],
   "source": [
    "# create set\n",
    "set1 = {1, 2, 3, 4, 5}\n",
    "set2 = {1, 2, 3,'a','b','c'}\n",
    "print(type(set1))\n",
    "print(type(set2))"
   ]
  },
  {
   "cell_type": "code",
   "execution_count": 16,
   "metadata": {},
   "outputs": [
    {
     "name": "stdout",
     "output_type": "stream",
     "text": [
      "b\n",
      "a\n",
      "c\n",
      "e\n",
      "d\n"
     ]
    }
   ],
   "source": [
    "#read set\n",
    "set3 = {'a','b','c','d','e'}\n",
    "for x in set3:\n",
    "    print(x)"
   ]
  },
  {
   "cell_type": "code",
   "execution_count": 17,
   "metadata": {},
   "outputs": [
    {
     "name": "stdout",
     "output_type": "stream",
     "text": [
      "{1, 'b', 'a', 'c', 'e', 'd'}\n"
     ]
    }
   ],
   "source": [
    "# add set\n",
    "set4 = {\"a\", \"b\", \"c\", \"d\", \"e\"}\n",
    "set4.add(1)\n",
    "print(set4)"
   ]
  },
  {
   "cell_type": "code",
   "execution_count": 18,
   "metadata": {},
   "outputs": [
    {
     "name": "stdout",
     "output_type": "stream",
     "text": [
      "{1, 'b', 2, 'a', 'c', 'e', 'd'}\n"
     ]
    }
   ],
   "source": [
    "# update set\n",
    "set5 = {\"a\", \"b\", \"c\", \"d\", \"e\"}\n",
    "set5.update({1,2})\n",
    "print(set5)"
   ]
  },
  {
   "cell_type": "code",
   "execution_count": null,
   "metadata": {},
   "outputs": [],
   "source": [
    "# remove set + clear\n",
    "set6 = {\"a\", \"b\", \"c\", \"d\", \"e\"}\n",
    "set6.remove('a')\n",
    "print(set6)\n",
    "set6.clear()\n",
    "print(set6)"
   ]
  },
  {
   "cell_type": "code",
   "execution_count": null,
   "metadata": {},
   "outputs": [],
   "source": [
    "# set + union\n",
    "setA = {1, 2, 3, 4, 5}\n",
    "setB = {3, 4, 5, 6, 7}\n",
    "# union set\n",
    "print(setA | setB)  # ตัวที่ซ้ำนับครั้งเดียว\n",
    "# intersection set\n",
    "print(setA & setB)  # แสดงเฉพาะตัวที่เหมือนกัน\n",
    "# difference set\n",
    "print(setA - setB)\n",
    "# symmertric difference\n",
    "print(setA ^ setB)"
   ]
  }
 ],
 "metadata": {
  "kernelspec": {
   "display_name": "Python 3",
   "language": "python",
   "name": "python3"
  },
  "language_info": {
   "codemirror_mode": {
    "name": "ipython",
    "version": 3
   },
   "file_extension": ".py",
   "mimetype": "text/x-python",
   "name": "python",
   "nbconvert_exporter": "python",
   "pygments_lexer": "ipython3",
   "version": "3.11.9"
  }
 },
 "nbformat": 4,
 "nbformat_minor": 2
}
