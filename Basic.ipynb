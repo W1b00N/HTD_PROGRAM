{
 "cells": [
  {
   "cell_type": "markdown",
   "metadata": {},
   "source": [
    "# DATA TYPE\n",
    "# ชนิดข้อมูล"
   ]
  },
  {
   "cell_type": "code",
   "execution_count": null,
   "metadata": {},
   "outputs": [],
   "source": [
    "# ชนิดข้อมูล\n",
    "a = 578  # int = จำนวนเต็ม\n",
    "b = 3.14  # float = จำนวนจริง ทศนิยม\n",
    "c = \"9\"  # string = ข้อความ ตัวอักษร\n",
    "\n",
    "print(\"hello\")  # คำสั่งแสดงผล\n",
    "print(\"ตัวแปร a มีรูปแบบข้อมูลเป็น \", type(a))\n",
    "print(\"ตัวแปร b มีรูปแบบข้อมูลเป็น \", type(b))\n",
    "print(\"ตัวแปร c มีรูปแบบข้อมูลเป็น \", type(c))"
   ]
  },
  {
   "cell_type": "markdown",
   "metadata": {},
   "source": [
    "# ตัวดำเนินการทางคณิตศาสตร์"
   ]
  },
  {
   "cell_type": "code",
   "execution_count": null,
   "metadata": {},
   "outputs": [],
   "source": [
    "# ตัวดำเนินการทางคณิตศาสตร์\n",
    "a = 5\n",
    "b = 7\n",
    "print(a + b)  # บวก\n",
    "print(a - b)  # ลบ\n",
    "print(a * b)  # คูณ\n",
    "print(a / b)  # หาร\n",
    "print(a % b)  # หารเอาเศษ\n",
    "print(a**b)  # ยกกำลัง\n",
    "print(a // b)  # หารปัดเศษทิ้ง"
   ]
  },
  {
   "cell_type": "markdown",
   "metadata": {},
   "source": [
    "# ตัวดำเนินการเปรียบเทียบ"
   ]
  },
  {
   "cell_type": "code",
   "execution_count": null,
   "metadata": {},
   "outputs": [],
   "source": [
    "# ตัวดำเนินการเปรียบเทียบ\n",
    "a = 5\n",
    "b = 7\n",
    "print(a == b)  # ตรวจว่าทั้งสองเท่ากันหรือไม่\n",
    "print(a != b)  # ตรวจว่าทั้งสองไม่เท่ากันหรือไม่\n",
    "print(a > b)  # ตรวจว่าค่าที่ 1 มากกว่า ค่าที่ 2 หรือไม่\n",
    "print(a < b)  # ตรวจว่าค่าที่ 1 น้อยกว่า ค่าที่ 2 หรือไม่\n",
    "print(a >= b)  # ตรวจว่าค่าที่ 1 มากกว่าหรือเท่ากับ ค่าที่ 2 หรือไม่\n",
    "print(a <= b)  # ตรวจว่าค่าที่ 1 มากกว่าหรือเท่ากับ ค่าที่ 2 หรือไม่"
   ]
  },
  {
   "cell_type": "markdown",
   "metadata": {},
   "source": [
    "# ตัวดำเนินการกำหนดค่า"
   ]
  },
  {
   "cell_type": "code",
   "execution_count": null,
   "metadata": {},
   "outputs": [],
   "source": [
    "# ตัวดำเนินการกำหนดค่า\n",
    "a = 3  # กำหนดให้ตัวแปรมีค่าเท่ากับ....\n",
    "b = 4  # กำหนดให้ตัวแปรมีค่าเท่ากับ....\n",
    "a += b  # บวกค่าของทางซ้ายด้วยค่าของทางขวา a = a + b\n",
    "a -= b  # ลบค่าของทางซ้ายด้วยค่าของทางขวา a = a - b\n",
    "a *= b  # คูณค่าของทางซ้ายด้วยค่าของทางขวา a = a * b\n",
    "a /= b  # หารค่าของทางซ้ายด้วยค่าของทางขวา a = a / b\n",
    "a %= b  # หารเอาเศษค่าของทางซ้ายด้วยค่าของทางขวา a = a % b\n",
    "a **= b  # ยกกำลังค่าของทางซ้ายด้วยค่าของทางขวา a = a ** b\n",
    "a //= b  # หารปัดเศษค่าของทางซ้ายด้วยค่าของทางขวา a = a // b"
   ]
  },
  {
   "cell_type": "markdown",
   "metadata": {},
   "source": [
    "# ตัวดำเนินการทางตรรกะ"
   ]
  },
  {
   "cell_type": "code",
   "execution_count": null,
   "metadata": {},
   "outputs": [],
   "source": [
    "# ตัวดำเนินการทางตรรกะ\n",
    "a = True\n",
    "b = False\n",
    "print(a and b)  # ตรวจว่าทั้งสองค่าเป็นจริงหรือไม่\n",
    "print(a or b)  # ตรวจว่าค่าตัวใดตัวนึงเป็นจริงหรือไม่\n",
    "print(not a)  # ค่าตรงข้ามของค่าปัจจุบัน จากจริงเป็นเท็จ จากเท็จเป็นจริง"
   ]
  },
  {
   "cell_type": "markdown",
   "metadata": {},
   "source": [
    "# ตัวดำเนินการทางสมาชิก"
   ]
  },
  {
   "cell_type": "code",
   "execution_count": null,
   "metadata": {},
   "outputs": [],
   "source": [
    "# ตัวดำเนินการทางสมาชิก\n",
    "a in b  # จะคืนค่าเป็นจริงถ้าพบค่าในตัวแปรที่เราสนใจ\n",
    "a not in b  # จะคืนค่าเป็นจริงถ้าไม่พบค่าในตัวแปรที่เราสนใจ"
   ]
  }
 ],
 "metadata": {
  "language_info": {
   "name": "python"
  }
 },
 "nbformat": 4,
 "nbformat_minor": 2
}
